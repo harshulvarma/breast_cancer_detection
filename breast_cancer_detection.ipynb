{
 "cells": [
  {
   "cell_type": "markdown",
   "metadata": {},
   "source": [
    "Loading Dependencies"
   ]
  },
  {
   "cell_type": "code",
   "execution_count": 1,
   "metadata": {},
   "outputs": [],
   "source": [
    "import tensorflow as tf\n",
    "import numpy as np\n",
    "import pandas as pd\n",
    "import fnmatch\n",
    "from tensorflow.keras.models import Sequential,Model\n",
    "from tensorflow.keras.layers import Dense, Dropout, Flatten, Activation, Conv2D, MaxPooling2D,GlobalAveragePooling2D,Input\n",
    "from tensorflow.keras.utils import to_categorical,normalize\n",
    "import matplotlib.pyplot as plt\n",
    "from sklearn.model_selection import train_test_split\n",
    "from tensorflow.keras.preprocessing.image import ImageDataGenerator\n",
    "from tensorflow.keras.applications.resnet50 import ResNet50, preprocess_input\n",
    "from tensorflow.keras.optimizers import Adam\n",
    "from tensorflow.keras import regularizers\n",
    "from glob import glob\n",
    "import cv2\n",
    "import seaborn as sns"
   ]
  },
  {
   "cell_type": "markdown",
   "metadata": {},
   "source": [
    "Loading and exploring Data"
   ]
  },
  {
   "cell_type": "code",
   "execution_count": 9,
   "metadata": {},
   "outputs": [
    {
     "name": "stdout",
     "output_type": "stream",
     "text": [
      "IDC_regular_ps50_idx5\\10253\\0\\10253_idx5_x1001_y1001_class0.png\n",
      "IDC_regular_ps50_idx5\\10253\\0\\10253_idx5_x1001_y1051_class0.png\n",
      "IDC_regular_ps50_idx5\\10253\\0\\10253_idx5_x1001_y1101_class0.png\n",
      "IDC_regular_ps50_idx5\\10253\\0\\10253_idx5_x1001_y1151_class0.png\n",
      "IDC_regular_ps50_idx5\\10253\\0\\10253_idx5_x1001_y1201_class0.png\n",
      "IDC_regular_ps50_idx5\\10253\\0\\10253_idx5_x1001_y1251_class0.png\n",
      "IDC_regular_ps50_idx5\\10253\\0\\10253_idx5_x1001_y1301_class0.png\n",
      "IDC_regular_ps50_idx5\\10253\\0\\10253_idx5_x1001_y1351_class0.png\n",
      "IDC_regular_ps50_idx5\\10253\\0\\10253_idx5_x1001_y1501_class0.png\n",
      "IDC_regular_ps50_idx5\\10253\\0\\10253_idx5_x1001_y1551_class0.png\n"
     ]
    }
   ],
   "source": [
    "imagePatches = glob('IDC_regular_ps50_idx5/**/*.png', recursive=True)\n",
    "for filename in imagePatches[0:10]:\n",
    "    print(filename)"
   ]
  },
  {
   "cell_type": "code",
   "execution_count": 10,
   "metadata": {},
   "outputs": [
    {
     "name": "stdout",
     "output_type": "stream",
     "text": [
      "IDC(-)\n",
      "\n",
      " ['IDC_regular_ps50_idx5\\\\10253\\\\0\\\\10253_idx5_x1001_y1001_class0.png', 'IDC_regular_ps50_idx5\\\\10253\\\\0\\\\10253_idx5_x1001_y1051_class0.png', 'IDC_regular_ps50_idx5\\\\10253\\\\0\\\\10253_idx5_x1001_y1101_class0.png', 'IDC_regular_ps50_idx5\\\\10253\\\\0\\\\10253_idx5_x1001_y1151_class0.png', 'IDC_regular_ps50_idx5\\\\10253\\\\0\\\\10253_idx5_x1001_y1201_class0.png'] \n",
      "\n",
      "IDC(+)\n",
      "\n",
      " ['IDC_regular_ps50_idx5\\\\10253\\\\1\\\\10253_idx5_x501_y351_class1.png', 'IDC_regular_ps50_idx5\\\\10253\\\\1\\\\10253_idx5_x501_y401_class1.png', 'IDC_regular_ps50_idx5\\\\10253\\\\1\\\\10253_idx5_x551_y301_class1.png', 'IDC_regular_ps50_idx5\\\\10253\\\\1\\\\10253_idx5_x551_y351_class1.png', 'IDC_regular_ps50_idx5\\\\10253\\\\1\\\\10253_idx5_x551_y401_class1.png']\n"
     ]
    }
   ],
   "source": [
    "patternZero = '*class0.png'\n",
    "patternOne = '*class1.png'\n",
    "classZero = fnmatch.filter(imagePatches, patternZero)\n",
    "classOne = fnmatch.filter(imagePatches, patternOne)\n",
    "print(\"IDC(-)\\n\\n\",classZero[0:5],'\\n')\n",
    "print(\"IDC(+)\\n\\n\",classOne[0:5])"
   ]
  },
  {
   "cell_type": "markdown",
   "metadata": {},
   "source": [
    "Creating features and labels"
   ]
  },
  {
   "cell_type": "code",
   "execution_count": 11,
   "metadata": {},
   "outputs": [],
   "source": [
    "def proc_images(lowerIndex,upperIndex):\n",
    "    \"\"\"\n",
    "    Returns two arrays: \n",
    "        x is an array of resized images\n",
    "        y is an array of labels\n",
    "    \"\"\" \n",
    "    x = []\n",
    "    y = []\n",
    "    WIDTH = 50\n",
    "    HEIGHT = 50\n",
    "    for img in imagePatches[lowerIndex:upperIndex]:\n",
    "        full_size_image = cv2.imread(img)\n",
    "        x.append(cv2.resize(full_size_image, (WIDTH,HEIGHT), interpolation=cv2.INTER_CUBIC))\n",
    "        if img in classZero:\n",
    "            y.append(0)\n",
    "        elif img in classOne:\n",
    "            y.append(1)\n",
    "        else:\n",
    "            return\n",
    "    return x,y"
   ]
  },
  {
   "cell_type": "code",
   "execution_count": 12,
   "metadata": {},
   "outputs": [],
   "source": [
    "X,Y = proc_images(0,90000)\n",
    "df = pd.DataFrame()\n",
    "df[\"images\"]=X\n",
    "df[\"labels\"]=Y\n",
    "X2=df[\"images\"]\n",
    "Y2=df[\"labels\"]\n",
    "X2=np.array(X2)\n",
    "imgs0=[]\n",
    "imgs1=[]\n",
    "imgs0 = X2[Y2==0] # (0 = no IDC, 1 = IDC)\n",
    "imgs1 = X2[Y2==1]"
   ]
  },
  {
   "cell_type": "markdown",
   "metadata": {},
   "source": [
    "Exploring data"
   ]
  },
  {
   "cell_type": "code",
   "execution_count": 13,
   "metadata": {},
   "outputs": [
    {
     "name": "stdout",
     "output_type": "stream",
     "text": [
      "Total number of images: 90000\n",
      "Number of IDC(-) Images: 64583\n",
      "Number of IDC(+) Images: 25417\n",
      "Percentage of positive images: 28.24%\n",
      "Image shape (Width, Height, Channels): (50, 50, 3)\n"
     ]
    }
   ],
   "source": [
    "def describeData(a,b):\n",
    "    print('Total number of images: {}'.format(len(a)))\n",
    "    print('Number of IDC(-) Images: {}'.format(np.sum(b==0)))\n",
    "    print('Number of IDC(+) Images: {}'.format(np.sum(b==1)))\n",
    "    print('Percentage of positive images: {:.2f}%'.format(100*np.mean(b)))\n",
    "    print('Image shape (Width, Height, Channels): {}'.format(a[0].shape))\n",
    "describeData(X2,Y2)\n",
    "\n"
   ]
  },
  {
   "cell_type": "markdown",
   "metadata": {},
   "source": [
    "Plotting image"
   ]
  },
  {
   "cell_type": "code",
   "execution_count": 14,
   "metadata": {},
   "outputs": [
    {
     "name": "stdout",
     "output_type": "stream",
     "text": [
      "0\n"
     ]
    },
    {
     "data": {
      "image/png": "[encoded data removed]",
      "text/plain": [
       "<Figure size 144x144 with 1 Axes>"
      ]
     },
     "metadata": {
      "needs_background": "light"
     },
     "output_type": "display_data"
    }
   ],
   "source": [
    "plt.figure(figsize=(2,2))\n",
    "plt.imshow(X2[9])\n",
    "print(Y2[9])"
   ]
  },
  {
   "cell_type": "markdown",
   "metadata": {},
   "source": [
    "Splitting data, converting labels to one-hot vectors "
   ]
  },
  {
   "cell_type": "code",
   "execution_count": 15,
   "metadata": {},
   "outputs": [
    {
     "name": "stdout",
     "output_type": "stream",
     "text": [
      "Training Data Shape: (81000, 50, 50, 3)\n",
      "Testing Data Shape: (9000, 50, 50, 3)\n"
     ]
    }
   ],
   "source": [
    "X=np.array(X,dtype=np.float32)\n",
    "\n",
    "X_train, X_test, Y_train, Y_test = train_test_split(X, Y, test_size=0.1)\n",
    "\n",
    "Y_trainHot = to_categorical(Y_train)\n",
    "Y_testHot = to_categorical(Y_test)\n",
    "\n",
    "\n",
    "print(\"Training Data Shape:\", X_train.shape)\n",
    "print(\"Testing Data Shape:\", X_test.shape)"
   ]
  },
  {
   "cell_type": "markdown",
   "metadata": {},
   "source": [
    "plotting data imbalance"
   ]
  },
  {
   "cell_type": "code",
   "execution_count": 16,
   "metadata": {},
   "outputs": [
    {
     "data": {
      "text/plain": [
       "<matplotlib.axes._subplots.AxesSubplot at 0x26cffd256d8>"
      ]
     },
     "execution_count": 16,
     "metadata": {},
     "output_type": "execute_result"
    },
    {
     "data": {
      "image/png": "[encoded data removed]",
      "text/plain": [
       "<Figure size 432x288 with 1 Axes>"
      ]
     },
     "metadata": {
      "needs_background": "light"
     },
     "output_type": "display_data"
    }
   ],
   "source": [
    "lab = df['labels']\n",
    "dist = lab.value_counts()\n",
    "sns.countplot(lab)"
   ]
  },
  {
   "cell_type": "markdown",
   "metadata": {},
   "source": [
    "importing ResNet50 model"
   ]
  },
  {
   "cell_type": "code",
   "execution_count": 17,
   "metadata": {},
   "outputs": [
    {
     "name": "stderr",
     "output_type": "stream",
     "text": [
      "C:\\Users\\harsh\\Anaconda3\\lib\\site-packages\\keras_applications\\resnet50.py:265: UserWarning: The output shape of `ResNet50(include_top=False)` has been changed since Keras 2.2.0.\n",
      "  warnings.warn('The output shape of `ResNet50(include_top=False)` '\n"
     ]
    }
   ],
   "source": [
    "rn = ResNet50(weights='imagenet', include_top=False,input_shape=(50,50,3))"
   ]
  },
  {
   "cell_type": "markdown",
   "metadata": {},
   "source": [
    "Preprocessing and predicting using resnet50"
   ]
  },
  {
   "cell_type": "code",
   "execution_count": 18,
   "metadata": {},
   "outputs": [],
   "source": [
    "train_input = preprocess_input(X_train)\n",
    "new_train = rn.predict(train_input)"
   ]
  },
  {
   "cell_type": "code",
   "execution_count": 21,
   "metadata": {},
   "outputs": [],
   "source": [
    "test_input = preprocess_input(X_test)\n",
    "new_test = rn.predict(test_input)"
   ]
  },
  {
   "cell_type": "markdown",
   "metadata": {},
   "source": [
    "Fully Conncected model on top of Resnet50 using previously predicted weights"
   ]
  },
  {
   "cell_type": "code",
   "execution_count": 22,
   "metadata": {},
   "outputs": [
    {
     "name": "stdout",
     "output_type": "stream",
     "text": [
      "Train on 81000 samples, validate on 9000 samples\n",
      "Epoch 1/100\n",
      "81000/81000 [==============================] - 4s 45us/step - loss: 0.6823 - acc: 0.7016 - val_loss: 0.5745 - val_acc: 0.7490\n",
      "Epoch 2/100\n",
      "81000/81000 [==============================] - 3s 37us/step - loss: 0.5415 - acc: 0.7636 - val_loss: 0.5084 - val_acc: 0.7809\n",
      "Epoch 3/100\n",
      "81000/81000 [==============================] - 3s 39us/step - loss: 0.4948 - acc: 0.7855 - val_loss: 0.4764 - val_acc: 0.7948\n",
      "Epoch 4/100\n",
      "81000/81000 [==============================] - 3s 39us/step - loss: 0.4693 - acc: 0.7978 - val_loss: 0.4557 - val_acc: 0.8044\n",
      "Epoch 5/100\n",
      "81000/81000 [==============================] - 3s 39us/step - loss: 0.4520 - acc: 0.8055 - val_loss: 0.4410 - val_acc: 0.8107\n",
      "Epoch 6/100\n",
      "81000/81000 [==============================] - 3s 37us/step - loss: 0.4394 - acc: 0.8110 - val_loss: 0.4293 - val_acc: 0.8156\n",
      "Epoch 7/100\n",
      "81000/81000 [==============================] - 3s 38us/step - loss: 0.4295 - acc: 0.8155 - val_loss: 0.4203 - val_acc: 0.8200\n",
      "Epoch 8/100\n",
      "81000/81000 [==============================] - 3s 37us/step - loss: 0.4215 - acc: 0.8198 - val_loss: 0.4130 - val_acc: 0.8234\n",
      "Epoch 9/100\n",
      "81000/81000 [==============================] - 3s 36us/step - loss: 0.4149 - acc: 0.8230 - val_loss: 0.4070 - val_acc: 0.8253\n",
      "Epoch 10/100\n",
      "81000/81000 [==============================] - 3s 38us/step - loss: 0.4093 - acc: 0.8259 - val_loss: 0.4018 - val_acc: 0.8288\n",
      "Epoch 11/100\n",
      "81000/81000 [==============================] - 3s 35us/step - loss: 0.4045 - acc: 0.8282 - val_loss: 0.3974 - val_acc: 0.8293\n",
      "Epoch 12/100\n",
      "81000/81000 [==============================] - 3s 35us/step - loss: 0.4003 - acc: 0.8300 - val_loss: 0.3936 - val_acc: 0.8328\n",
      "Epoch 13/100\n",
      "81000/81000 [==============================] - 3s 35us/step - loss: 0.3966 - acc: 0.8321 - val_loss: 0.3903 - val_acc: 0.8340\n",
      "Epoch 14/100\n",
      "81000/81000 [==============================] - 3s 37us/step - loss: 0.3932 - acc: 0.8334 - val_loss: 0.3870 - val_acc: 0.8357\n",
      "Epoch 15/100\n",
      "81000/81000 [==============================] - 3s 37us/step - loss: 0.3903 - acc: 0.8346 - val_loss: 0.3844 - val_acc: 0.8374\n",
      "Epoch 16/100\n",
      "81000/81000 [==============================] - 3s 37us/step - loss: 0.3876 - acc: 0.8365 - val_loss: 0.3819 - val_acc: 0.8382\n",
      "Epoch 17/100\n",
      "81000/81000 [==============================] - 3s 37us/step - loss: 0.3851 - acc: 0.8378 - val_loss: 0.3797 - val_acc: 0.8396\n",
      "Epoch 18/100\n",
      "81000/81000 [==============================] - 3s 36us/step - loss: 0.3828 - acc: 0.8389 - val_loss: 0.3779 - val_acc: 0.8408\n",
      "Epoch 19/100\n",
      "81000/81000 [==============================] - 3s 36us/step - loss: 0.3807 - acc: 0.8398 - val_loss: 0.3757 - val_acc: 0.8412\n",
      "Epoch 20/100\n",
      "81000/81000 [==============================] - 3s 37us/step - loss: 0.3788 - acc: 0.8405 - val_loss: 0.3741 - val_acc: 0.8426\n",
      "Epoch 21/100\n",
      "81000/81000 [==============================] - 3s 36us/step - loss: 0.3770 - acc: 0.8419 - val_loss: 0.3725 - val_acc: 0.8432\n",
      "Epoch 22/100\n",
      "81000/81000 [==============================] - 3s 35us/step - loss: 0.3753 - acc: 0.8424 - val_loss: 0.3716 - val_acc: 0.8437\n",
      "Epoch 23/100\n",
      "81000/81000 [==============================] - 3s 36us/step - loss: 0.3738 - acc: 0.8426 - val_loss: 0.3697 - val_acc: 0.8454\n",
      "Epoch 24/100\n",
      "81000/81000 [==============================] - 3s 36us/step - loss: 0.3723 - acc: 0.8437 - val_loss: 0.3683 - val_acc: 0.8459\n",
      "Epoch 25/100\n",
      "81000/81000 [==============================] - 3s 37us/step - loss: 0.3709 - acc: 0.8440 - val_loss: 0.3671 - val_acc: 0.8464\n",
      "Epoch 26/100\n",
      "81000/81000 [==============================] - 3s 37us/step - loss: 0.3696 - acc: 0.8447 - val_loss: 0.3660 - val_acc: 0.8470\n",
      "Epoch 27/100\n",
      "81000/81000 [==============================] - 3s 37us/step - loss: 0.3684 - acc: 0.8454 - val_loss: 0.3651 - val_acc: 0.8471\n",
      "Epoch 28/100\n",
      "81000/81000 [==============================] - 3s 36us/step - loss: 0.3672 - acc: 0.8458 - val_loss: 0.3639 - val_acc: 0.8471\n",
      "Epoch 29/100\n",
      "81000/81000 [==============================] - 3s 36us/step - loss: 0.3661 - acc: 0.8464 - val_loss: 0.3630 - val_acc: 0.8472\n",
      "Epoch 30/100\n",
      "81000/81000 [==============================] - 3s 35us/step - loss: 0.3650 - acc: 0.8469 - val_loss: 0.3622 - val_acc: 0.8478\n",
      "Epoch 31/100\n",
      "81000/81000 [==============================] - 3s 35us/step - loss: 0.3641 - acc: 0.8473 - val_loss: 0.3615 - val_acc: 0.8476\n",
      "Epoch 32/100\n",
      "81000/81000 [==============================] - 3s 37us/step - loss: 0.3632 - acc: 0.8478 - val_loss: 0.3605 - val_acc: 0.8480\n",
      "Epoch 33/100\n",
      "81000/81000 [==============================] - 3s 35us/step - loss: 0.3623 - acc: 0.8480 - val_loss: 0.3598 - val_acc: 0.8489\n",
      "Epoch 34/100\n",
      "81000/81000 [==============================] - 3s 34us/step - loss: 0.3614 - acc: 0.8485 - val_loss: 0.3591 - val_acc: 0.8484\n",
      "Epoch 35/100\n",
      "81000/81000 [==============================] - 3s 34us/step - loss: 0.3605 - acc: 0.8488 - val_loss: 0.3585 - val_acc: 0.8488\n",
      "Epoch 36/100\n",
      "81000/81000 [==============================] - 3s 34us/step - loss: 0.3598 - acc: 0.8496 - val_loss: 0.3576 - val_acc: 0.8496\n",
      "Epoch 37/100\n",
      "81000/81000 [==============================] - 3s 35us/step - loss: 0.3590 - acc: 0.8493 - val_loss: 0.3569 - val_acc: 0.8492\n",
      "Epoch 38/100\n",
      "81000/81000 [==============================] - 3s 35us/step - loss: 0.3582 - acc: 0.8498 - val_loss: 0.3564 - val_acc: 0.8506\n",
      "Epoch 39/100\n",
      "81000/81000 [==============================] - 3s 37us/step - loss: 0.3576 - acc: 0.8499 - val_loss: 0.3558 - val_acc: 0.8490\n",
      "Epoch 40/100\n",
      "81000/81000 [==============================] - 3s 38us/step - loss: 0.3569 - acc: 0.8503 - val_loss: 0.3552 - val_acc: 0.8493\n",
      "Epoch 41/100\n",
      "81000/81000 [==============================] - 3s 35us/step - loss: 0.3563 - acc: 0.8510 - val_loss: 0.3546 - val_acc: 0.8502\n",
      "Epoch 42/100\n",
      "81000/81000 [==============================] - 3s 35us/step - loss: 0.3556 - acc: 0.8510 - val_loss: 0.3541 - val_acc: 0.8508\n",
      "Epoch 43/100\n",
      "81000/81000 [==============================] - 3s 38us/step - loss: 0.3550 - acc: 0.8511 - val_loss: 0.3537 - val_acc: 0.8494\n",
      "Epoch 44/100\n",
      "81000/81000 [==============================] - 3s 39us/step - loss: 0.3545 - acc: 0.8515 - val_loss: 0.3531 - val_acc: 0.8510\n",
      "Epoch 45/100\n",
      "81000/81000 [==============================] - 3s 40us/step - loss: 0.3539 - acc: 0.8517 - val_loss: 0.3527 - val_acc: 0.8504\n",
      "Epoch 46/100\n",
      "81000/81000 [==============================] - 3s 39us/step - loss: 0.3534 - acc: 0.8524 - val_loss: 0.3525 - val_acc: 0.8504\n",
      "Epoch 47/100\n",
      "81000/81000 [==============================] - 3s 35us/step - loss: 0.3528 - acc: 0.8521 - val_loss: 0.3520 - val_acc: 0.8507\n",
      "Epoch 48/100\n",
      "81000/81000 [==============================] - 3s 35us/step - loss: 0.3523 - acc: 0.8522 - val_loss: 0.3519 - val_acc: 0.8499\n",
      "Epoch 49/100\n",
      "81000/81000 [==============================] - 3s 35us/step - loss: 0.3518 - acc: 0.8527 - val_loss: 0.3511 - val_acc: 0.8514\n",
      "Epoch 50/100\n",
      "81000/81000 [==============================] - 3s 34us/step - loss: 0.3513 - acc: 0.8529 - val_loss: 0.3507 - val_acc: 0.8514\n",
      "Epoch 51/100\n",
      "81000/81000 [==============================] - 3s 34us/step - loss: 0.3509 - acc: 0.8529 - val_loss: 0.3503 - val_acc: 0.8514\n",
      "Epoch 52/100\n",
      "81000/81000 [==============================] - 3s 36us/step - loss: 0.3504 - acc: 0.8531 - val_loss: 0.3498 - val_acc: 0.8516\n",
      "Epoch 53/100\n",
      "81000/81000 [==============================] - 3s 37us/step - loss: 0.3500 - acc: 0.8535 - val_loss: 0.3494 - val_acc: 0.8526\n",
      "Epoch 54/100\n",
      "81000/81000 [==============================] - 3s 37us/step - loss: 0.3496 - acc: 0.8539 - val_loss: 0.3492 - val_acc: 0.8519\n",
      "Epoch 55/100\n",
      "81000/81000 [==============================] - 3s 35us/step - loss: 0.3491 - acc: 0.8539 - val_loss: 0.3489 - val_acc: 0.8522\n",
      "Epoch 56/100\n",
      "81000/81000 [==============================] - 3s 35us/step - loss: 0.3488 - acc: 0.8540 - val_loss: 0.3485 - val_acc: 0.8518\n",
      "Epoch 57/100\n",
      "81000/81000 [==============================] - 3s 36us/step - loss: 0.3483 - acc: 0.8541 - val_loss: 0.3482 - val_acc: 0.8523\n",
      "Epoch 58/100\n",
      "81000/81000 [==============================] - 3s 36us/step - loss: 0.3480 - acc: 0.8545 - val_loss: 0.3485 - val_acc: 0.8510\n",
      "Epoch 59/100\n"
     ]
    },
    {
     "name": "stdout",
     "output_type": "stream",
     "text": [
      "81000/81000 [==============================] - 3s 35us/step - loss: 0.3476 - acc: 0.8546 - val_loss: 0.3476 - val_acc: 0.8532\n",
      "Epoch 60/100\n",
      "81000/81000 [==============================] - 3s 35us/step - loss: 0.3473 - acc: 0.8549 - val_loss: 0.3475 - val_acc: 0.8524\n",
      "Epoch 61/100\n",
      "81000/81000 [==============================] - 3s 36us/step - loss: 0.3469 - acc: 0.8551 - val_loss: 0.3470 - val_acc: 0.8528\n",
      "Epoch 62/100\n",
      "81000/81000 [==============================] - 3s 36us/step - loss: 0.3466 - acc: 0.8555 - val_loss: 0.3470 - val_acc: 0.8532\n",
      "Epoch 63/100\n",
      "81000/81000 [==============================] - 3s 37us/step - loss: 0.3462 - acc: 0.8554 - val_loss: 0.3467 - val_acc: 0.8523\n",
      "Epoch 64/100\n",
      "81000/81000 [==============================] - 3s 36us/step - loss: 0.3459 - acc: 0.8553 - val_loss: 0.3469 - val_acc: 0.8518\n",
      "Epoch 65/100\n",
      "81000/81000 [==============================] - 3s 37us/step - loss: 0.3457 - acc: 0.8557 - val_loss: 0.3461 - val_acc: 0.8531\n",
      "Epoch 66/100\n",
      "81000/81000 [==============================] - 3s 36us/step - loss: 0.3453 - acc: 0.8558 - val_loss: 0.3460 - val_acc: 0.8527\n",
      "Epoch 67/100\n",
      "81000/81000 [==============================] - 3s 36us/step - loss: 0.3450 - acc: 0.8558 - val_loss: 0.3456 - val_acc: 0.8538\n",
      "Epoch 68/100\n",
      "81000/81000 [==============================] - 3s 35us/step - loss: 0.3447 - acc: 0.8556 - val_loss: 0.3455 - val_acc: 0.8537\n",
      "Epoch 69/100\n",
      "81000/81000 [==============================] - 3s 36us/step - loss: 0.3444 - acc: 0.8559 - val_loss: 0.3452 - val_acc: 0.8539\n",
      "Epoch 70/100\n",
      "81000/81000 [==============================] - 3s 35us/step - loss: 0.3441 - acc: 0.8558 - val_loss: 0.3451 - val_acc: 0.8534\n",
      "Epoch 71/100\n",
      "81000/81000 [==============================] - 3s 35us/step - loss: 0.3439 - acc: 0.8560 - val_loss: 0.3450 - val_acc: 0.8527\n",
      "Epoch 72/100\n",
      "81000/81000 [==============================] - 3s 35us/step - loss: 0.3436 - acc: 0.8563 - val_loss: 0.3447 - val_acc: 0.8540\n",
      "Epoch 73/100\n",
      "81000/81000 [==============================] - 3s 36us/step - loss: 0.3434 - acc: 0.8566 - val_loss: 0.3443 - val_acc: 0.8553\n",
      "Epoch 74/100\n",
      "81000/81000 [==============================] - 3s 35us/step - loss: 0.3430 - acc: 0.8566 - val_loss: 0.3441 - val_acc: 0.8549\n",
      "Epoch 75/100\n",
      "81000/81000 [==============================] - 3s 36us/step - loss: 0.3428 - acc: 0.8566 - val_loss: 0.3439 - val_acc: 0.8556\n",
      "Epoch 76/100\n",
      "81000/81000 [==============================] - 3s 36us/step - loss: 0.3426 - acc: 0.8568 - val_loss: 0.3438 - val_acc: 0.8554\n",
      "Epoch 77/100\n",
      "81000/81000 [==============================] - 3s 36us/step - loss: 0.3423 - acc: 0.8571 - val_loss: 0.3437 - val_acc: 0.8551\n",
      "Epoch 78/100\n",
      "81000/81000 [==============================] - 3s 37us/step - loss: 0.3421 - acc: 0.8573 - val_loss: 0.3435 - val_acc: 0.8551\n",
      "Epoch 79/100\n",
      "81000/81000 [==============================] - 3s 37us/step - loss: 0.3418 - acc: 0.8571 - val_loss: 0.3433 - val_acc: 0.8549\n",
      "Epoch 80/100\n",
      "81000/81000 [==============================] - 3s 36us/step - loss: 0.3416 - acc: 0.8571 - val_loss: 0.3431 - val_acc: 0.8549\n",
      "Epoch 81/100\n",
      "81000/81000 [==============================] - 3s 36us/step - loss: 0.3414 - acc: 0.8576 - val_loss: 0.3432 - val_acc: 0.8551\n",
      "Epoch 82/100\n",
      "81000/81000 [==============================] - 3s 36us/step - loss: 0.3412 - acc: 0.8574 - val_loss: 0.3428 - val_acc: 0.8561\n",
      "Epoch 83/100\n",
      "81000/81000 [==============================] - 3s 36us/step - loss: 0.3410 - acc: 0.8578 - val_loss: 0.3427 - val_acc: 0.8550\n",
      "Epoch 84/100\n",
      "81000/81000 [==============================] - 3s 36us/step - loss: 0.3408 - acc: 0.8576 - val_loss: 0.3425 - val_acc: 0.8552\n",
      "Epoch 85/100\n",
      "81000/81000 [==============================] - 3s 36us/step - loss: 0.3406 - acc: 0.8580 - val_loss: 0.3425 - val_acc: 0.8553\n",
      "Epoch 86/100\n",
      "81000/81000 [==============================] - 3s 36us/step - loss: 0.3404 - acc: 0.8580 - val_loss: 0.3422 - val_acc: 0.8552\n",
      "Epoch 87/100\n",
      "81000/81000 [==============================] - 3s 35us/step - loss: 0.3402 - acc: 0.8577 - val_loss: 0.3423 - val_acc: 0.8553\n",
      "Epoch 88/100\n",
      "81000/81000 [==============================] - 3s 36us/step - loss: 0.3400 - acc: 0.8580 - val_loss: 0.3422 - val_acc: 0.8544\n",
      "Epoch 89/100\n",
      "81000/81000 [==============================] - 3s 36us/step - loss: 0.3398 - acc: 0.8582 - val_loss: 0.3419 - val_acc: 0.8554\n",
      "Epoch 90/100\n",
      "81000/81000 [==============================] - 3s 35us/step - loss: 0.3397 - acc: 0.8580 - val_loss: 0.3417 - val_acc: 0.8561\n",
      "Epoch 91/100\n",
      "81000/81000 [==============================] - 3s 36us/step - loss: 0.3395 - acc: 0.8583 - val_loss: 0.3416 - val_acc: 0.8553\n",
      "Epoch 92/100\n",
      "81000/81000 [==============================] - 3s 36us/step - loss: 0.3393 - acc: 0.8582 - val_loss: 0.3415 - val_acc: 0.8557\n",
      "Epoch 93/100\n",
      "81000/81000 [==============================] - 3s 36us/step - loss: 0.3390 - acc: 0.8584 - val_loss: 0.3413 - val_acc: 0.8552\n",
      "Epoch 94/100\n",
      "81000/81000 [==============================] - 3s 36us/step - loss: 0.3390 - acc: 0.8585 - val_loss: 0.3412 - val_acc: 0.8554\n",
      "Epoch 95/100\n",
      "81000/81000 [==============================] - 3s 35us/step - loss: 0.3388 - acc: 0.8584 - val_loss: 0.3412 - val_acc: 0.8543\n",
      "Epoch 96/100\n",
      "81000/81000 [==============================] - 3s 36us/step - loss: 0.3386 - acc: 0.8585 - val_loss: 0.3410 - val_acc: 0.8551\n",
      "Epoch 97/100\n",
      "81000/81000 [==============================] - 3s 36us/step - loss: 0.3385 - acc: 0.8587 - val_loss: 0.3409 - val_acc: 0.8556\n",
      "Epoch 98/100\n",
      "81000/81000 [==============================] - 3s 36us/step - loss: 0.3383 - acc: 0.8586 - val_loss: 0.3408 - val_acc: 0.8551\n",
      "Epoch 99/100\n",
      "81000/81000 [==============================] - 3s 35us/step - loss: 0.3381 - acc: 0.8589 - val_loss: 0.3410 - val_acc: 0.8554\n",
      "Epoch 100/100\n",
      "81000/81000 [==============================] - 3s 36us/step - loss: 0.3380 - acc: 0.8587 - val_loss: 0.3405 - val_acc: 0.8556\n"
     ]
    }
   ],
   "source": [
    "model = Sequential()\n",
    "\n",
    "\n",
    "model.add(GlobalAveragePooling2D(input_shape=(new_train.shape[1:])))\n",
    "\n",
    "model.add(Dense(2))\n",
    "model.add(Activation('softmax'))\n",
    "\n",
    "adam= Adam(lr=0.00001)\n",
    "\n",
    "model.compile(optimizer=adam, loss='categorical_crossentropy', metrics=['accuracy'])\n",
    "\n",
    "history = model.fit(new_train,Y_trainHot,batch_size=128,epochs = 100, validation_data=(new_test,Y_testHot))"
   ]
  },
  {
   "cell_type": "markdown",
   "metadata": {},
   "source": [
    "Plotting Accuracy and loss"
   ]
  },
  {
   "cell_type": "code",
   "execution_count": 23,
   "metadata": {},
   "outputs": [
    {
     "data": {
      "image/png": "[encoded data removed]",
      "text/plain": [
       "<Figure size 432x288 with 1 Axes>"
      ]
     },
     "metadata": {
      "needs_background": "light"
     },
     "output_type": "display_data"
    },
    {
     "data": {
      "image/png": "[encoded data removed]",
      "text/plain": [
       "<Figure size 432x288 with 1 Axes>"
      ]
     },
     "metadata": {
      "needs_background": "light"
     },
     "output_type": "display_data"
    }
   ],
   "source": [
    "\n",
    "plt.plot(history.history['acc'])\n",
    "plt.plot(history.history['val_acc'])\n",
    "plt.title('Model accuracy')\n",
    "plt.ylabel('Accuracy')\n",
    "plt.xlabel('Epoch')\n",
    "plt.legend(['Train', 'Test'], loc='upper left')\n",
    "plt.show()\n",
    "\n",
    "plt.plot(history.history['loss'])\n",
    "plt.plot(history.history['val_loss'])\n",
    "plt.title('Model loss')\n",
    "plt.ylabel('Loss')\n",
    "plt.xlabel('Epoch')\n",
    "plt.legend(['Train', 'Test'], loc='upper left')\n",
    "plt.show()"
   ]
  },
  {
   "cell_type": "markdown",
   "metadata": {},
   "source": [
    "Solving data imbalances"
   ]
  },
  {
   "cell_type": "code",
   "execution_count": 15,
   "metadata": {},
   "outputs": [
    {
     "name": "stdout",
     "output_type": "stream",
     "text": [
      "X_trainRosReshaped Shape:  (45730, 50, 50, 3)\n",
      "X_trainRosReshaped type:  float32\n",
      "X_testRosReshaped Shape:  (5104, 50, 50, 3)\n"
     ]
    },
    {
     "ename": "NameError",
     "evalue": "name 'dict_characters' is not defined",
     "output_type": "error",
     "traceback": [
      "\u001b[1;31m---------------------------------------------------------------------------\u001b[0m",
      "\u001b[1;31mNameError\u001b[0m                                 Traceback (most recent call last)",
      "\u001b[1;32m<ipython-input-15-3114c9e977e4>\u001b[0m in \u001b[0;36m<module>\u001b[1;34m\u001b[0m\n\u001b[0;32m     45\u001b[0m \u001b[0mdistRos\u001b[0m \u001b[1;33m=\u001b[0m \u001b[0mlab\u001b[0m\u001b[1;33m.\u001b[0m\u001b[0mvalue_counts\u001b[0m\u001b[1;33m(\u001b[0m\u001b[1;33m)\u001b[0m\u001b[1;33m\u001b[0m\u001b[1;33m\u001b[0m\u001b[0m\n\u001b[0;32m     46\u001b[0m \u001b[0msns\u001b[0m\u001b[1;33m.\u001b[0m\u001b[0mcountplot\u001b[0m\u001b[1;33m(\u001b[0m\u001b[0mlabRos\u001b[0m\u001b[1;33m)\u001b[0m\u001b[1;33m\u001b[0m\u001b[1;33m\u001b[0m\u001b[0m\n\u001b[1;32m---> 47\u001b[1;33m \u001b[0mprint\u001b[0m\u001b[1;33m(\u001b[0m\u001b[0mdict_characters\u001b[0m\u001b[1;33m)\u001b[0m\u001b[1;33m\u001b[0m\u001b[1;33m\u001b[0m\u001b[0m\n\u001b[0m",
      "\u001b[1;31mNameError\u001b[0m: name 'dict_characters' is not defined"
     ]
    },
    {
     "data": {
      "image/png": "[encoded data removed]",
      "text/plain": [
       "<Figure size 432x288 with 1 Axes>"
      ]
     },
     "metadata": {
      "needs_background": "light"
     },
     "output_type": "display_data"
    }
   ],
   "source": [
    "# Make Data 1D for compatability upsampling methods\n",
    "X_trainShape = X_train.shape[1]*X_train.shape[2]*X_train.shape[3]\n",
    "X_testShape = X_test.shape[1]*X_test.shape[2]*X_test.shape[3]\n",
    "X_trainFlat = X_train.reshape(X_train.shape[0], X_trainShape)\n",
    "X_testFlat = X_test.reshape(X_test.shape[0], X_testShape)\n",
    "\n",
    "from imblearn.over_sampling import RandomOverSampler\n",
    "from imblearn.under_sampling import RandomUnderSampler\n",
    "\n",
    "ros = RandomUnderSampler(ratio='auto')\n",
    "X_trainRos, Y_trainRos = ros.fit_sample(X_trainFlat, Y_train)\n",
    "X_testRos, Y_testRos = ros.fit_sample(X_testFlat, Y_test)\n",
    "\n",
    "Y_trainRosHot = to_categorical(Y_trainRos)\n",
    "Y_testRosHot = to_categorical(Y_testRos)\n",
    "\n",
    "for i in range(len(X_trainRos)):\n",
    "    height, width, channels = 50,50,3\n",
    "    X_trainRosReshaped = X_trainRos.reshape(-1,50,50,3)\n",
    "\n",
    "print(\"X_trainRosReshaped Shape: \",X_trainRosReshaped.shape)\n",
    "print(\"X_trainRosReshaped type: \",X_trainRosReshaped.dtype)\n",
    "\n",
    "for i in range(len(X_testRos)):\n",
    "    height, width, channels = 50,50,3\n",
    "    X_testRosReshaped = X_testRos.reshape(-1,50,50,3)\n",
    "\n",
    "print(\"X_testRosReshaped Shape: \",X_testRosReshaped.shape)\n",
    "\n",
    "#plotting balanced data\n",
    "dfRos = pd.DataFrame()\n",
    "dfRos[\"labels\"]=Y_trainRos\n",
    "labRos = dfRos['labels']\n",
    "distRos = lab.value_counts()\n",
    "sns.countplot(labRos)"
   ]
  },
  {
   "cell_type": "markdown",
   "metadata": {},
   "source": [
    "Using ResNet50 model to calculate accuracy and loss on new balanced data"
   ]
  },
  {
   "cell_type": "code",
   "execution_count": 16,
   "metadata": {},
   "outputs": [
    {
     "name": "stderr",
     "output_type": "stream",
     "text": [
      "C:\\Users\\harsh\\Anaconda3\\lib\\site-packages\\keras_applications\\resnet50.py:265: UserWarning: The output shape of `ResNet50(include_top=False)` has been changed since Keras 2.2.0.\n",
      "  warnings.warn('The output shape of `ResNet50(include_top=False)` '\n"
     ]
    }
   ],
   "source": [
    "rn = ResNet50(weights='imagenet', include_top=False,input_shape=(50,50,3))"
   ]
  },
  {
   "cell_type": "code",
   "execution_count": 18,
   "metadata": {},
   "outputs": [],
   "source": [
    "train_input = preprocess_input(X_trainRosReshaped)\n",
    "new_train = rn.predict(train_input)"
   ]
  },
  {
   "cell_type": "code",
   "execution_count": 19,
   "metadata": {},
   "outputs": [],
   "source": [
    "test_input = preprocess_input(X_testRosReshaped)\n",
    "new_test = rn.predict(test_input)"
   ]
  },
  {
   "cell_type": "code",
   "execution_count": 28,
   "metadata": {},
   "outputs": [
    {
     "name": "stdout",
     "output_type": "stream",
     "text": [
      "Train on 45730 samples, validate on 5104 samples\n",
      "Epoch 1/100\n",
      "45730/45730 [==============================] - 2s 50us/step - loss: 1.6858 - acc: 0.4888 - val_loss: 1.2904 - val_acc: 0.4922\n",
      "Epoch 2/100\n",
      "45730/45730 [==============================] - 1s 31us/step - loss: 1.0780 - acc: 0.5243 - val_loss: 0.9502 - val_acc: 0.5594\n",
      "Epoch 3/100\n",
      "45730/45730 [==============================] - 1s 31us/step - loss: 0.8520 - acc: 0.5907 - val_loss: 0.8085 - val_acc: 0.6150\n",
      "Epoch 4/100\n",
      "45730/45730 [==============================] - 1s 31us/step - loss: 0.7460 - acc: 0.6401 - val_loss: 0.7345 - val_acc: 0.6491\n",
      "Epoch 5/100\n",
      "45730/45730 [==============================] - 1s 31us/step - loss: 0.6893 - acc: 0.6704 - val_loss: 0.6910 - val_acc: 0.6765\n",
      "Epoch 6/100\n",
      "45730/45730 [==============================] - 1s 31us/step - loss: 0.6554 - acc: 0.6896 - val_loss: 0.6626 - val_acc: 0.6946\n",
      "Epoch 7/100\n",
      "45730/45730 [==============================] - 1s 32us/step - loss: 0.6325 - acc: 0.7024 - val_loss: 0.6418 - val_acc: 0.7067\n",
      "Epoch 8/100\n",
      "45730/45730 [==============================] - 1s 32us/step - loss: 0.6154 - acc: 0.7122 - val_loss: 0.6254 - val_acc: 0.7165\n",
      "Epoch 9/100\n",
      "45730/45730 [==============================] - 1s 32us/step - loss: 0.6018 - acc: 0.7204 - val_loss: 0.6117 - val_acc: 0.7241\n",
      "Epoch 10/100\n",
      "45730/45730 [==============================] - 1s 32us/step - loss: 0.5902 - acc: 0.7262 - val_loss: 0.5999 - val_acc: 0.7294\n",
      "Epoch 11/100\n",
      "45730/45730 [==============================] - 1s 32us/step - loss: 0.5802 - acc: 0.7319 - val_loss: 0.5896 - val_acc: 0.7335\n",
      "Epoch 12/100\n",
      "45730/45730 [==============================] - 1s 32us/step - loss: 0.5713 - acc: 0.7367 - val_loss: 0.5805 - val_acc: 0.7386\n",
      "Epoch 13/100\n",
      "45730/45730 [==============================] - 1s 31us/step - loss: 0.5632 - acc: 0.7414 - val_loss: 0.5723 - val_acc: 0.7410\n",
      "Epoch 14/100\n",
      "45730/45730 [==============================] - 1s 32us/step - loss: 0.5559 - acc: 0.7454 - val_loss: 0.5645 - val_acc: 0.7469\n",
      "Epoch 15/100\n",
      "45730/45730 [==============================] - 1s 32us/step - loss: 0.5491 - acc: 0.7493 - val_loss: 0.5575 - val_acc: 0.7512\n",
      "Epoch 16/100\n",
      "45730/45730 [==============================] - 2s 33us/step - loss: 0.5429 - acc: 0.7516 - val_loss: 0.5511 - val_acc: 0.7531\n",
      "Epoch 17/100\n",
      "45730/45730 [==============================] - 1s 32us/step - loss: 0.5370 - acc: 0.7547 - val_loss: 0.5452 - val_acc: 0.7545\n",
      "Epoch 18/100\n",
      "45730/45730 [==============================] - 2s 34us/step - loss: 0.5314 - acc: 0.7566 - val_loss: 0.5395 - val_acc: 0.7578\n",
      "Epoch 19/100\n",
      "45730/45730 [==============================] - 1s 31us/step - loss: 0.5263 - acc: 0.7599 - val_loss: 0.5346 - val_acc: 0.7620\n",
      "Epoch 20/100\n",
      "45730/45730 [==============================] - 1s 32us/step - loss: 0.5215 - acc: 0.7629 - val_loss: 0.5296 - val_acc: 0.7647\n",
      "Epoch 21/100\n",
      "45730/45730 [==============================] - 1s 31us/step - loss: 0.5169 - acc: 0.7651 - val_loss: 0.5250 - val_acc: 0.7667\n",
      "Epoch 22/100\n",
      "45730/45730 [==============================] - 1s 31us/step - loss: 0.5126 - acc: 0.7676 - val_loss: 0.5208 - val_acc: 0.7696\n",
      "Epoch 23/100\n",
      "45730/45730 [==============================] - 1s 31us/step - loss: 0.5086 - acc: 0.7700 - val_loss: 0.5167 - val_acc: 0.7714\n",
      "Epoch 24/100\n",
      "45730/45730 [==============================] - 2s 33us/step - loss: 0.5047 - acc: 0.7717 - val_loss: 0.5129 - val_acc: 0.7725\n",
      "Epoch 25/100\n",
      "45730/45730 [==============================] - 2s 33us/step - loss: 0.5011 - acc: 0.7735 - val_loss: 0.5094 - val_acc: 0.7743\n",
      "Epoch 26/100\n",
      "45730/45730 [==============================] - 2s 33us/step - loss: 0.4977 - acc: 0.7750 - val_loss: 0.5061 - val_acc: 0.7755\n",
      "Epoch 27/100\n",
      "45730/45730 [==============================] - 2s 34us/step - loss: 0.4944 - acc: 0.7769 - val_loss: 0.5030 - val_acc: 0.7776\n",
      "Epoch 28/100\n",
      "45730/45730 [==============================] - 1s 32us/step - loss: 0.4913 - acc: 0.7789 - val_loss: 0.4999 - val_acc: 0.7786\n",
      "Epoch 29/100\n",
      "45730/45730 [==============================] - 2s 35us/step - loss: 0.4884 - acc: 0.7800 - val_loss: 0.4974 - val_acc: 0.7804\n",
      "Epoch 30/100\n",
      "45730/45730 [==============================] - 2s 34us/step - loss: 0.4856 - acc: 0.7818 - val_loss: 0.4945 - val_acc: 0.7823\n",
      "Epoch 31/100\n",
      "45730/45730 [==============================] - 1s 33us/step - loss: 0.4829 - acc: 0.7830 - val_loss: 0.4922 - val_acc: 0.7841\n",
      "Epoch 32/100\n",
      "45730/45730 [==============================] - 1s 32us/step - loss: 0.4804 - acc: 0.7840 - val_loss: 0.4899 - val_acc: 0.7841\n",
      "Epoch 33/100\n",
      "45730/45730 [==============================] - 1s 31us/step - loss: 0.4780 - acc: 0.7851 - val_loss: 0.4875 - val_acc: 0.7847\n",
      "Epoch 34/100\n",
      "45730/45730 [==============================] - 1s 33us/step - loss: 0.4758 - acc: 0.7869 - val_loss: 0.4853 - val_acc: 0.7859\n",
      "Epoch 35/100\n",
      "45730/45730 [==============================] - 2s 33us/step - loss: 0.4736 - acc: 0.7881 - val_loss: 0.4834 - val_acc: 0.7862\n",
      "Epoch 36/100\n",
      "45730/45730 [==============================] - 1s 31us/step - loss: 0.4715 - acc: 0.7890 - val_loss: 0.4814 - val_acc: 0.7866\n",
      "Epoch 37/100\n",
      "45730/45730 [==============================] - 1s 31us/step - loss: 0.4696 - acc: 0.7903 - val_loss: 0.4796 - val_acc: 0.7880\n",
      "Epoch 38/100\n",
      "45730/45730 [==============================] - 2s 33us/step - loss: 0.4677 - acc: 0.7909 - val_loss: 0.4781 - val_acc: 0.7888\n",
      "Epoch 39/100\n",
      "45730/45730 [==============================] - 2s 33us/step - loss: 0.4657 - acc: 0.7925 - val_loss: 0.4764 - val_acc: 0.7880\n",
      "Epoch 40/100\n",
      "45730/45730 [==============================] - 2s 38us/step - loss: 0.4641 - acc: 0.7928 - val_loss: 0.4746 - val_acc: 0.7892\n",
      "Epoch 41/100\n",
      "45730/45730 [==============================] - 2s 33us/step - loss: 0.4624 - acc: 0.7938 - val_loss: 0.4732 - val_acc: 0.7894\n",
      "Epoch 42/100\n",
      "45730/45730 [==============================] - 2s 36us/step - loss: 0.4607 - acc: 0.7939 - val_loss: 0.4717 - val_acc: 0.7902\n",
      "Epoch 43/100\n",
      "45730/45730 [==============================] - 2s 35us/step - loss: 0.4592 - acc: 0.7951 - val_loss: 0.4703 - val_acc: 0.7909\n",
      "Epoch 44/100\n",
      "45730/45730 [==============================] - 2s 36us/step - loss: 0.4577 - acc: 0.7960 - val_loss: 0.4691 - val_acc: 0.7921\n",
      "Epoch 45/100\n",
      "45730/45730 [==============================] - 2s 35us/step - loss: 0.4563 - acc: 0.7967 - val_loss: 0.4686 - val_acc: 0.7923\n",
      "Epoch 46/100\n",
      "45730/45730 [==============================] - 2s 33us/step - loss: 0.4549 - acc: 0.7978 - val_loss: 0.4672 - val_acc: 0.7921\n",
      "Epoch 47/100\n",
      "45730/45730 [==============================] - 2s 34us/step - loss: 0.4536 - acc: 0.7984 - val_loss: 0.4658 - val_acc: 0.7939\n",
      "Epoch 48/100\n",
      "45730/45730 [==============================] - 2s 34us/step - loss: 0.4523 - acc: 0.7988 - val_loss: 0.4643 - val_acc: 0.7949\n",
      "Epoch 49/100\n",
      "45730/45730 [==============================] - 2s 35us/step - loss: 0.4510 - acc: 0.7998 - val_loss: 0.4632 - val_acc: 0.7951\n",
      "Epoch 50/100\n",
      "45730/45730 [==============================] - 2s 34us/step - loss: 0.4498 - acc: 0.8007 - val_loss: 0.4623 - val_acc: 0.7964\n",
      "Epoch 51/100\n",
      "45730/45730 [==============================] - 2s 34us/step - loss: 0.4487 - acc: 0.8011 - val_loss: 0.4610 - val_acc: 0.7968\n",
      "Epoch 52/100\n",
      "45730/45730 [==============================] - 2s 34us/step - loss: 0.4476 - acc: 0.8019 - val_loss: 0.4601 - val_acc: 0.7968\n",
      "Epoch 53/100\n",
      "45730/45730 [==============================] - 2s 33us/step - loss: 0.4464 - acc: 0.8021 - val_loss: 0.4596 - val_acc: 0.7976\n",
      "Epoch 54/100\n",
      "45730/45730 [==============================] - 1s 32us/step - loss: 0.4455 - acc: 0.8029 - val_loss: 0.4581 - val_acc: 0.7988\n",
      "Epoch 55/100\n",
      "45730/45730 [==============================] - 1s 32us/step - loss: 0.4444 - acc: 0.8031 - val_loss: 0.4574 - val_acc: 0.7982\n",
      "Epoch 56/100\n",
      "45730/45730 [==============================] - 1s 33us/step - loss: 0.4434 - acc: 0.8033 - val_loss: 0.4571 - val_acc: 0.8002\n",
      "Epoch 57/100\n",
      "45730/45730 [==============================] - 2s 33us/step - loss: 0.4425 - acc: 0.8045 - val_loss: 0.4555 - val_acc: 0.8002\n",
      "Epoch 58/100\n",
      "45730/45730 [==============================] - 1s 32us/step - loss: 0.4415 - acc: 0.8047 - val_loss: 0.4549 - val_acc: 0.8007\n",
      "Epoch 59/100\n",
      "45730/45730 [==============================] - 2s 34us/step - loss: 0.4406 - acc: 0.8054 - val_loss: 0.4541 - val_acc: 0.8011\n",
      "Epoch 60/100\n",
      "45730/45730 [==============================] - 1s 32us/step - loss: 0.4397 - acc: 0.8058 - val_loss: 0.4533 - val_acc: 0.8023\n",
      "Epoch 61/100\n",
      "45730/45730 [==============================] - 2s 34us/step - loss: 0.4388 - acc: 0.8063 - val_loss: 0.4525 - val_acc: 0.8019\n",
      "Epoch 62/100\n",
      "45730/45730 [==============================] - 2s 34us/step - loss: 0.4380 - acc: 0.8063 - val_loss: 0.4518 - val_acc: 0.8025\n",
      "Epoch 63/100\n",
      "45730/45730 [==============================] - 1s 33us/step - loss: 0.4372 - acc: 0.8073 - val_loss: 0.4513 - val_acc: 0.8033\n",
      "Epoch 64/100\n",
      "45730/45730 [==============================] - 2s 34us/step - loss: 0.4364 - acc: 0.8072 - val_loss: 0.4506 - val_acc: 0.8035\n",
      "Epoch 65/100\n",
      "45730/45730 [==============================] - 1s 31us/step - loss: 0.4356 - acc: 0.8072 - val_loss: 0.4498 - val_acc: 0.8039\n",
      "Epoch 66/100\n",
      "45730/45730 [==============================] - 1s 31us/step - loss: 0.4349 - acc: 0.8081 - val_loss: 0.4493 - val_acc: 0.8037\n",
      "Epoch 67/100\n",
      "45730/45730 [==============================] - 1s 33us/step - loss: 0.4341 - acc: 0.8077 - val_loss: 0.4488 - val_acc: 0.8033\n",
      "Epoch 68/100\n",
      "45730/45730 [==============================] - 2s 35us/step - loss: 0.4334 - acc: 0.8086 - val_loss: 0.4481 - val_acc: 0.8037\n",
      "Epoch 69/100\n",
      "45730/45730 [==============================] - 2s 35us/step - loss: 0.4327 - acc: 0.8091 - val_loss: 0.4476 - val_acc: 0.8041\n",
      "Epoch 70/100\n",
      "45730/45730 [==============================] - 1s 32us/step - loss: 0.4320 - acc: 0.8093 - val_loss: 0.4470 - val_acc: 0.8043\n",
      "Epoch 71/100\n",
      "45730/45730 [==============================] - 2s 33us/step - loss: 0.4314 - acc: 0.8095 - val_loss: 0.4464 - val_acc: 0.8037\n",
      "Epoch 72/100\n",
      "45730/45730 [==============================] - 2s 35us/step - loss: 0.4306 - acc: 0.8104 - val_loss: 0.4456 - val_acc: 0.8039\n",
      "Epoch 73/100\n",
      "45730/45730 [==============================] - 2s 36us/step - loss: 0.4301 - acc: 0.8106 - val_loss: 0.4454 - val_acc: 0.8054\n",
      "Epoch 74/100\n",
      "45730/45730 [==============================] - 1s 32us/step - loss: 0.4294 - acc: 0.8105 - val_loss: 0.4450 - val_acc: 0.8049\n",
      "Epoch 75/100\n",
      "45730/45730 [==============================] - 1s 32us/step - loss: 0.4288 - acc: 0.8110 - val_loss: 0.4441 - val_acc: 0.8047\n",
      "Epoch 76/100\n",
      "45730/45730 [==============================] - 1s 33us/step - loss: 0.4282 - acc: 0.8113 - val_loss: 0.4437 - val_acc: 0.8054\n",
      "Epoch 77/100\n",
      "45730/45730 [==============================] - 2s 33us/step - loss: 0.4275 - acc: 0.8121 - val_loss: 0.4435 - val_acc: 0.8062\n",
      "Epoch 78/100\n",
      "45730/45730 [==============================] - 1s 32us/step - loss: 0.4270 - acc: 0.8116 - val_loss: 0.4429 - val_acc: 0.8066\n",
      "Epoch 79/100\n",
      "45730/45730 [==============================] - 1s 32us/step - loss: 0.4264 - acc: 0.8123 - val_loss: 0.4421 - val_acc: 0.8056\n",
      "Epoch 80/100\n",
      "45730/45730 [==============================] - 2s 33us/step - loss: 0.4259 - acc: 0.8125 - val_loss: 0.4417 - val_acc: 0.8068\n",
      "Epoch 81/100\n",
      "45730/45730 [==============================] - 1s 33us/step - loss: 0.4253 - acc: 0.8128 - val_loss: 0.4418 - val_acc: 0.8072\n",
      "Epoch 82/100\n",
      "45730/45730 [==============================] - 2s 34us/step - loss: 0.4248 - acc: 0.8127 - val_loss: 0.4410 - val_acc: 0.8068\n",
      "Epoch 83/100\n",
      "45730/45730 [==============================] - 2s 34us/step - loss: 0.4243 - acc: 0.8129 - val_loss: 0.4404 - val_acc: 0.8074\n",
      "Epoch 84/100\n",
      "45730/45730 [==============================] - 2s 36us/step - loss: 0.4238 - acc: 0.8140 - val_loss: 0.4402 - val_acc: 0.8074\n",
      "Epoch 85/100\n",
      "45730/45730 [==============================] - 1s 33us/step - loss: 0.4232 - acc: 0.8138 - val_loss: 0.4397 - val_acc: 0.8068\n",
      "Epoch 86/100\n",
      "45730/45730 [==============================] - 2s 33us/step - loss: 0.4228 - acc: 0.8139 - val_loss: 0.4392 - val_acc: 0.8072\n",
      "Epoch 87/100\n",
      "45730/45730 [==============================] - 2s 33us/step - loss: 0.4223 - acc: 0.8141 - val_loss: 0.4389 - val_acc: 0.8076\n",
      "Epoch 88/100\n",
      "45730/45730 [==============================] - 1s 31us/step - loss: 0.4219 - acc: 0.8148 - val_loss: 0.4383 - val_acc: 0.8082\n",
      "Epoch 89/100\n",
      "45730/45730 [==============================] - 1s 32us/step - loss: 0.4213 - acc: 0.8146 - val_loss: 0.4384 - val_acc: 0.8088\n",
      "Epoch 90/100\n",
      "45730/45730 [==============================] - 2s 33us/step - loss: 0.4208 - acc: 0.8147 - val_loss: 0.4378 - val_acc: 0.8086\n",
      "Epoch 91/100\n",
      "45730/45730 [==============================] - 1s 33us/step - loss: 0.4204 - acc: 0.8149 - val_loss: 0.4377 - val_acc: 0.8086\n",
      "Epoch 92/100\n",
      "45730/45730 [==============================] - 1s 31us/step - loss: 0.4199 - acc: 0.8155 - val_loss: 0.4369 - val_acc: 0.8088\n",
      "Epoch 93/100\n",
      "45730/45730 [==============================] - 2s 35us/step - loss: 0.4195 - acc: 0.8154 - val_loss: 0.4366 - val_acc: 0.8096\n",
      "Epoch 94/100\n",
      "45730/45730 [==============================] - 2s 34us/step - loss: 0.4191 - acc: 0.8161 - val_loss: 0.4363 - val_acc: 0.8098\n",
      "Epoch 95/100\n",
      "45730/45730 [==============================] - 2s 36us/step - loss: 0.4187 - acc: 0.8162 - val_loss: 0.4359 - val_acc: 0.8098\n",
      "Epoch 96/100\n",
      "45730/45730 [==============================] - 1s 32us/step - loss: 0.4182 - acc: 0.8163 - val_loss: 0.4357 - val_acc: 0.8101\n",
      "Epoch 97/100\n",
      "45730/45730 [==============================] - 2s 33us/step - loss: 0.4178 - acc: 0.8169 - val_loss: 0.4352 - val_acc: 0.8101\n",
      "Epoch 98/100\n",
      "45730/45730 [==============================] - 2s 33us/step - loss: 0.4174 - acc: 0.8170 - val_loss: 0.4349 - val_acc: 0.8098\n",
      "Epoch 99/100\n",
      "45730/45730 [==============================] - 1s 32us/step - loss: 0.4170 - acc: 0.8169 - val_loss: 0.4347 - val_acc: 0.8103\n",
      "Epoch 100/100\n",
      "45730/45730 [==============================] - 1s 32us/step - loss: 0.4166 - acc: 0.8173 - val_loss: 0.4342 - val_acc: 0.8111\n"
     ]
    }
   ],
   "source": [
    "model = Sequential()\n",
    "\n",
    "\n",
    "model.add(GlobalAveragePooling2D(input_shape=(new_train.shape[1:])))\n",
    "\n",
    "model.add(Dense(2))\n",
    "model.add(Activation('softmax'))\n",
    "\n",
    "adam= Adam(lr=0.00001)\n",
    "\n",
    "model.compile(optimizer=adam, loss='categorical_crossentropy', metrics=['accuracy'])\n",
    "\n",
    "history = model.fit(new_train,Y_trainRosHot,batch_size=256,epochs = 100, validation_data=(new_test,Y_testRosHot))"
   ]
  },
  {
   "cell_type": "code",
   "execution_count": 29,
   "metadata": {},
   "outputs": [
    {
     "data": {
      "image/png": "[encoded data removed]",
      "text/plain": [
       "<Figure size 432x288 with 1 Axes>"
      ]
     },
     "metadata": {
      "needs_background": "light"
     },
     "output_type": "display_data"
    },
    {
     "data": {
      "image/png": "[encoded data removed]",
      "text/plain": [
       "<Figure size 432x288 with 1 Axes>"
      ]
     },
     "metadata": {
      "needs_background": "light"
     },
     "output_type": "display_data"
    }
   ],
   "source": [
    "# Plot training & validation accuracy values\n",
    "plt.plot(history.history['acc'])\n",
    "plt.plot(history.history['val_acc'])\n",
    "plt.title('Model accuracy')\n",
    "plt.ylabel('Accuracy')\n",
    "plt.xlabel('Epoch')\n",
    "plt.legend(['Train', 'Test'], loc='upper left')\n",
    "plt.show()\n",
    "\n",
    "# Plot training & validation loss values\n",
    "plt.plot(history.history['loss'])\n",
    "plt.plot(history.history['val_loss'])\n",
    "plt.title('Model loss')\n",
    "plt.ylabel('Loss')\n",
    "plt.xlabel('Epoch')\n",
    "plt.legend(['Train', 'Test'], loc='upper left')\n",
    "plt.show()"
   ]
  }
 ],
 "metadata": {
  "kernelspec": {
   "display_name": "Python 3",
   "language": "python",
   "name": "python3"
  },
  "language_info": {
   "codemirror_mode": {
    "name": "ipython",
    "version": 3
   },
   "file_extension": ".py",
   "mimetype": "text/x-python",
   "name": "python",
   "nbconvert_exporter": "python",
   "pygments_lexer": "ipython3",
   "version": "3.6.7"
  }
 },
 "nbformat": 4,
 "nbformat_minor": 2
}
